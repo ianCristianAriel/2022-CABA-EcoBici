{
  "cells": [
    {
      "attachments": {},
      "cell_type": "markdown",
      "metadata": {
        "id": "qNX2gTrEVpqN"
      },
      "source": [
        "# EDA"
      ]
    },
    {
      "attachments": {},
      "cell_type": "markdown",
      "metadata": {
        "cell_id": "1c014b96be9b402b8e965a9da6134bad",
        "deepnote_app_coordinates": {
          "h": 5,
          "w": 12,
          "x": 0,
          "y": 18
        },
        "deepnote_cell_type": "markdown",
        "deepnote_to_be_reexecuted": false,
        "execution_millis": 1,
        "execution_start": 1652835801149,
        "id": "iIeotye5QUWy",
        "source_hash": "93ea9879",
        "tags": []
      },
      "source": [
        "## Importar librerías"
      ]
    },
    {
      "cell_type": "code",
      "execution_count": 1,
      "metadata": {
        "cell_id": "8e1071cdf1d547d5ac1f6c64dfe56f91",
        "deepnote_app_coordinates": {
          "h": 5,
          "w": 12,
          "x": 0,
          "y": 24
        },
        "deepnote_cell_type": "code",
        "deepnote_to_be_reexecuted": false,
        "execution_millis": 2635,
        "execution_start": 1668368298421,
        "id": "TOoEdatbQUW4",
        "output_cleared": false,
        "source_hash": "81919a32",
        "tags": []
      },
      "outputs": [],
      "source": [
        "import empiricaldist\n",
        "import matplotlib.pyplot as plt\n",
        "import numpy as np\n",
        "import palmerpenguins\n",
        "import pandas as pd\n",
        "import seaborn as sns\n",
        "import os"
      ]
    },
    {
      "attachments": {},
      "cell_type": "markdown",
      "metadata": {
        "id": "GMadIBGIQUXU"
      },
      "source": [
        "## Lectura del CSV"
      ]
    },
    {
      "cell_type": "code",
      "execution_count": 47,
      "metadata": {
        "colab": {
          "base_uri": "https://localhost:8080/",
          "height": 311
        },
        "id": "lP-zGfaPZADm",
        "outputId": "07e4fa0a-1143-42cb-ee36-6558ef08490f"
      },
      "outputs": [],
      "source": [
        "datos = pd.read_csv('../../datos/procesados/01_limpieza_ecobici.csv')"
      ]
    },
    {
      "attachments": {},
      "cell_type": "markdown",
      "metadata": {
        "cell_id": "61c6695b11c24b7fb0e51ca5c578c032",
        "deepnote_app_coordinates": {
          "h": 5,
          "w": 12,
          "x": 0,
          "y": 108
        },
        "deepnote_cell_type": "markdown",
        "deepnote_to_be_reexecuted": false,
        "execution_millis": 521820,
        "execution_start": 1652836959673,
        "id": "cU8m1m7ZQUX-",
        "source_hash": "b623e53d",
        "tags": []
      },
      "source": [
        "# Colecta y validación de datos"
      ]
    },
    {
      "attachments": {},
      "cell_type": "markdown",
      "metadata": {
        "cell_id": "336638b029334d8b84e56bdc9b2807d1",
        "deepnote_app_coordinates": {
          "h": 5,
          "w": 12,
          "x": 0,
          "y": 126
        },
        "deepnote_cell_type": "markdown",
        "id": "99aZHZQ5QUYI",
        "tags": []
      },
      "source": [
        "### ¿Cuántas variables de cada tipo de dato tenemos en el conjunto de datos?"
      ]
    },
    {
      "cell_type": "code",
      "execution_count": 3,
      "metadata": {
        "cell_id": "54c7a3e1811449b093f25fee8fabad28",
        "colab": {
          "base_uri": "https://localhost:8080/"
        },
        "deepnote_app_coordinates": {
          "h": 5,
          "w": 12,
          "x": 0,
          "y": 132
        },
        "deepnote_cell_type": "code",
        "deepnote_to_be_reexecuted": false,
        "execution_millis": 3349613,
        "execution_start": 1653452678090,
        "id": "24Q1SRiCQUYJ",
        "outputId": "c20bd070-f5df-4c84-fcae-e36cade27d0b",
        "output_cleared": true,
        "source_hash": "b623e53d",
        "tags": []
      },
      "outputs": [
        {
          "data": {
            "text/plain": [
              "int64      10\n",
              "object      8\n",
              "float64     1\n",
              "dtype: int64"
            ]
          },
          "execution_count": 3,
          "metadata": {},
          "output_type": "execute_result"
        }
      ],
      "source": [
        "#Muestra el tipo de dato de las columnas y la cantidad que hay de cada una\n",
        "#float64 equivale a variables numericas continuas\n",
        "#object equivale a una variable nominal\n",
        "#int64 equivale a variables numericas discretas\n",
        "datos.dtypes.value_counts()"
      ]
    },
    {
      "attachments": {},
      "cell_type": "markdown",
      "metadata": {
        "cell_id": "44fe7c0a2d414e028609c860deddcf54",
        "deepnote_app_coordinates": {
          "h": 5,
          "w": 12,
          "x": 0,
          "y": 138
        },
        "deepnote_cell_type": "markdown",
        "id": "XFQ9CtCiQUYL",
        "tags": []
      },
      "source": [
        "### ¿Cuántas variables y observaciones tenemos en el conjunto de datos?"
      ]
    },
    {
      "cell_type": "code",
      "execution_count": 4,
      "metadata": {
        "cell_id": "35cefbe8cc8444cd96aa2603a184fe4d",
        "colab": {
          "base_uri": "https://localhost:8080/"
        },
        "deepnote_app_coordinates": {
          "h": 5,
          "w": 12,
          "x": 0,
          "y": 144
        },
        "deepnote_cell_type": "code",
        "deepnote_to_be_reexecuted": false,
        "execution_millis": 3349612,
        "execution_start": 1653452678091,
        "id": "Bbq3edj0QUYN",
        "outputId": "64a66f89-b9dd-440d-ecab-5f400781505a",
        "output_cleared": true,
        "source_hash": "b623e53d",
        "tags": []
      },
      "outputs": [
        {
          "data": {
            "text/plain": [
              "(2860091, 19)"
            ]
          },
          "execution_count": 4,
          "metadata": {},
          "output_type": "execute_result"
        }
      ],
      "source": [
        "#Muestra la cantidad de filas y columnas, lo que equivale a la cantidad de observaciones y variables respectivamente\n",
        "datos.shape"
      ]
    },
    {
      "attachments": {},
      "cell_type": "markdown",
      "metadata": {
        "cell_id": "7dc920f80c5e43cdb5540f8945a9db12",
        "deepnote_app_coordinates": {
          "h": 5,
          "w": 12,
          "x": 0,
          "y": 222
        },
        "deepnote_cell_type": "markdown",
        "id": "jMt2e2YnQUYv",
        "tags": []
      },
      "source": [
        "# Conteos y proporciones"
      ]
    },
    {
      "attachments": {},
      "cell_type": "markdown",
      "metadata": {
        "cell_id": "09c156a156114d0d91f6bc4498000b03",
        "deepnote_app_coordinates": {
          "h": 5,
          "w": 12,
          "x": 0,
          "y": 228
        },
        "deepnote_cell_type": "markdown",
        "id": "JxnOlOkWQUYw",
        "tags": []
      },
      "source": [
        "### Preludio: ¿Qué estadísticos describen el conjunto de datos?"
      ]
    },
    {
      "attachments": {},
      "cell_type": "markdown",
      "metadata": {
        "cell_id": "d22e69eb34c448aa9d89b8d5239d6c2e",
        "deepnote_app_coordinates": {
          "h": 5,
          "w": 12,
          "x": 0,
          "y": 246
        },
        "deepnote_cell_type": "markdown",
        "id": "_ZIJvMwOQUYz",
        "tags": []
      },
      "source": [
        "#### Solo las numéricas"
      ]
    },
    {
      "cell_type": "code",
      "execution_count": 5,
      "metadata": {
        "cell_id": "e37ca15690ab4f13a54ca9fd1a04d0fd",
        "colab": {
          "base_uri": "https://localhost:8080/",
          "height": 300
        },
        "deepnote_app_coordinates": {
          "h": 5,
          "w": 12,
          "x": 0,
          "y": 252
        },
        "deepnote_cell_type": "code",
        "deepnote_to_be_reexecuted": false,
        "execution_millis": 3349561,
        "execution_start": 1653452678137,
        "id": "QCcdoGoOQUY5",
        "outputId": "c6fc7740-79f5-4ff2-a82c-c795728ca61e",
        "output_cleared": true,
        "source_hash": "b623e53d",
        "tags": []
      },
      "outputs": [
        {
          "data": {
            "text/html": [
              "<div>\n",
              "<style scoped>\n",
              "    .dataframe tbody tr th:only-of-type {\n",
              "        vertical-align: middle;\n",
              "    }\n",
              "\n",
              "    .dataframe tbody tr th {\n",
              "        vertical-align: top;\n",
              "    }\n",
              "\n",
              "    .dataframe thead th {\n",
              "        text-align: right;\n",
              "    }\n",
              "</style>\n",
              "<table border=\"1\" class=\"dataframe\">\n",
              "  <thead>\n",
              "    <tr style=\"text-align: right;\">\n",
              "      <th></th>\n",
              "      <th>duracion_recorrido_segundos</th>\n",
              "      <th>origen_anio</th>\n",
              "      <th>origen_mes</th>\n",
              "      <th>origen_dia</th>\n",
              "      <th>origen_hora</th>\n",
              "      <th>origen_minuto</th>\n",
              "      <th>destino_anio</th>\n",
              "      <th>destino_mes</th>\n",
              "      <th>destino_dia</th>\n",
              "      <th>destino_hora</th>\n",
              "      <th>destino_minuto</th>\n",
              "    </tr>\n",
              "  </thead>\n",
              "  <tbody>\n",
              "    <tr>\n",
              "      <th>count</th>\n",
              "      <td>2.859286e+06</td>\n",
              "      <td>2860091.0</td>\n",
              "      <td>2.860091e+06</td>\n",
              "      <td>2.860091e+06</td>\n",
              "      <td>2.860091e+06</td>\n",
              "      <td>2.860091e+06</td>\n",
              "      <td>2.860091e+06</td>\n",
              "      <td>2.860091e+06</td>\n",
              "      <td>2.860091e+06</td>\n",
              "      <td>2.860091e+06</td>\n",
              "      <td>2.860091e+06</td>\n",
              "    </tr>\n",
              "    <tr>\n",
              "      <th>mean</th>\n",
              "      <td>1.238466e+03</td>\n",
              "      <td>2021.0</td>\n",
              "      <td>6.313866e+00</td>\n",
              "      <td>1.556190e+01</td>\n",
              "      <td>1.426384e+01</td>\n",
              "      <td>2.907542e+01</td>\n",
              "      <td>2.021000e+03</td>\n",
              "      <td>6.313954e+00</td>\n",
              "      <td>1.556252e+01</td>\n",
              "      <td>1.443575e+01</td>\n",
              "      <td>2.992955e+01</td>\n",
              "    </tr>\n",
              "    <tr>\n",
              "      <th>std</th>\n",
              "      <td>9.501960e+03</td>\n",
              "      <td>0.0</td>\n",
              "      <td>3.635716e+00</td>\n",
              "      <td>8.714653e+00</td>\n",
              "      <td>5.136232e+00</td>\n",
              "      <td>1.726598e+01</td>\n",
              "      <td>3.015052e-03</td>\n",
              "      <td>3.635708e+00</td>\n",
              "      <td>8.714704e+00</td>\n",
              "      <td>5.236356e+00</td>\n",
              "      <td>1.736798e+01</td>\n",
              "    </tr>\n",
              "    <tr>\n",
              "      <th>min</th>\n",
              "      <td>6.100000e+01</td>\n",
              "      <td>2021.0</td>\n",
              "      <td>1.000000e+00</td>\n",
              "      <td>1.000000e+00</td>\n",
              "      <td>0.000000e+00</td>\n",
              "      <td>0.000000e+00</td>\n",
              "      <td>2.021000e+03</td>\n",
              "      <td>1.000000e+00</td>\n",
              "      <td>1.000000e+00</td>\n",
              "      <td>0.000000e+00</td>\n",
              "      <td>0.000000e+00</td>\n",
              "    </tr>\n",
              "    <tr>\n",
              "      <th>25%</th>\n",
              "      <td>6.390000e+02</td>\n",
              "      <td>2021.0</td>\n",
              "      <td>3.000000e+00</td>\n",
              "      <td>8.000000e+00</td>\n",
              "      <td>1.100000e+01</td>\n",
              "      <td>1.400000e+01</td>\n",
              "      <td>2.021000e+03</td>\n",
              "      <td>3.000000e+00</td>\n",
              "      <td>8.000000e+00</td>\n",
              "      <td>1.100000e+01</td>\n",
              "      <td>1.500000e+01</td>\n",
              "    </tr>\n",
              "    <tr>\n",
              "      <th>50%</th>\n",
              "      <td>1.014000e+03</td>\n",
              "      <td>2021.0</td>\n",
              "      <td>6.000000e+00</td>\n",
              "      <td>1.500000e+01</td>\n",
              "      <td>1.500000e+01</td>\n",
              "      <td>2.900000e+01</td>\n",
              "      <td>2.021000e+03</td>\n",
              "      <td>6.000000e+00</td>\n",
              "      <td>1.500000e+01</td>\n",
              "      <td>1.500000e+01</td>\n",
              "      <td>3.000000e+01</td>\n",
              "    </tr>\n",
              "    <tr>\n",
              "      <th>75%</th>\n",
              "      <td>1.535000e+03</td>\n",
              "      <td>2021.0</td>\n",
              "      <td>1.000000e+01</td>\n",
              "      <td>2.300000e+01</td>\n",
              "      <td>1.800000e+01</td>\n",
              "      <td>4.400000e+01</td>\n",
              "      <td>2.021000e+03</td>\n",
              "      <td>1.000000e+01</td>\n",
              "      <td>2.300000e+01</td>\n",
              "      <td>1.800000e+01</td>\n",
              "      <td>4.500000e+01</td>\n",
              "    </tr>\n",
              "    <tr>\n",
              "      <th>max</th>\n",
              "      <td>1.351522e+07</td>\n",
              "      <td>2021.0</td>\n",
              "      <td>1.200000e+01</td>\n",
              "      <td>3.100000e+01</td>\n",
              "      <td>2.300000e+01</td>\n",
              "      <td>5.900000e+01</td>\n",
              "      <td>2.022000e+03</td>\n",
              "      <td>1.200000e+01</td>\n",
              "      <td>3.100000e+01</td>\n",
              "      <td>2.300000e+01</td>\n",
              "      <td>5.900000e+01</td>\n",
              "    </tr>\n",
              "  </tbody>\n",
              "</table>\n",
              "</div>"
            ],
            "text/plain": [
              "       duracion_recorrido_segundos  origen_anio    origen_mes    origen_dia  \\\n",
              "count                 2.859286e+06    2860091.0  2.860091e+06  2.860091e+06   \n",
              "mean                  1.238466e+03       2021.0  6.313866e+00  1.556190e+01   \n",
              "std                   9.501960e+03          0.0  3.635716e+00  8.714653e+00   \n",
              "min                   6.100000e+01       2021.0  1.000000e+00  1.000000e+00   \n",
              "25%                   6.390000e+02       2021.0  3.000000e+00  8.000000e+00   \n",
              "50%                   1.014000e+03       2021.0  6.000000e+00  1.500000e+01   \n",
              "75%                   1.535000e+03       2021.0  1.000000e+01  2.300000e+01   \n",
              "max                   1.351522e+07       2021.0  1.200000e+01  3.100000e+01   \n",
              "\n",
              "        origen_hora  origen_minuto  destino_anio   destino_mes   destino_dia  \\\n",
              "count  2.860091e+06   2.860091e+06  2.860091e+06  2.860091e+06  2.860091e+06   \n",
              "mean   1.426384e+01   2.907542e+01  2.021000e+03  6.313954e+00  1.556252e+01   \n",
              "std    5.136232e+00   1.726598e+01  3.015052e-03  3.635708e+00  8.714704e+00   \n",
              "min    0.000000e+00   0.000000e+00  2.021000e+03  1.000000e+00  1.000000e+00   \n",
              "25%    1.100000e+01   1.400000e+01  2.021000e+03  3.000000e+00  8.000000e+00   \n",
              "50%    1.500000e+01   2.900000e+01  2.021000e+03  6.000000e+00  1.500000e+01   \n",
              "75%    1.800000e+01   4.400000e+01  2.021000e+03  1.000000e+01  2.300000e+01   \n",
              "max    2.300000e+01   5.900000e+01  2.022000e+03  1.200000e+01  3.100000e+01   \n",
              "\n",
              "       destino_hora  destino_minuto  \n",
              "count  2.860091e+06    2.860091e+06  \n",
              "mean   1.443575e+01    2.992955e+01  \n",
              "std    5.236356e+00    1.736798e+01  \n",
              "min    0.000000e+00    0.000000e+00  \n",
              "25%    1.100000e+01    1.500000e+01  \n",
              "50%    1.500000e+01    3.000000e+01  \n",
              "75%    1.800000e+01    4.500000e+01  \n",
              "max    2.300000e+01    5.900000e+01  "
            ]
          },
          "execution_count": 5,
          "metadata": {},
          "output_type": "execute_result"
        }
      ],
      "source": [
        "#Se espesifica que se haga la estadistica de las variables numericas\n",
        "datos.describe(include=[np.number])"
      ]
    },
    {
      "attachments": {},
      "cell_type": "markdown",
      "metadata": {
        "cell_id": "1dcb319be65f4df7b9aea55cb9eebcbc",
        "deepnote_app_coordinates": {
          "h": 5,
          "w": 12,
          "x": 0,
          "y": 258
        },
        "deepnote_cell_type": "markdown",
        "id": "4HvYF0QwQUY6",
        "tags": []
      },
      "source": [
        "#### Solo categóricas"
      ]
    },
    {
      "cell_type": "code",
      "execution_count": 6,
      "metadata": {
        "cell_id": "558a19b4650c4c8c80a25fa64bdfab5a",
        "colab": {
          "base_uri": "https://localhost:8080/",
          "height": 294
        },
        "deepnote_app_coordinates": {
          "h": 5,
          "w": 12,
          "x": 0,
          "y": 264
        },
        "deepnote_cell_type": "code",
        "deepnote_to_be_reexecuted": false,
        "execution_millis": 0,
        "execution_start": 1653452678138,
        "id": "W-tocXNHQUY7",
        "outputId": "687724e7-3df5-4c35-c0db-5f99334ba839",
        "output_cleared": true,
        "source_hash": "b623e53d",
        "tags": []
      },
      "outputs": [
        {
          "name": "stderr",
          "output_type": "stream",
          "text": [
            "/tmp/ipykernel_50328/16405137.py:3: DeprecationWarning: `np.object` is a deprecated alias for the builtin `object`. To silence this warning, use `object` by itself. Doing this will not modify any behavior and is safe. \n",
            "Deprecated in NumPy 1.20; for more details and guidance: https://numpy.org/devdocs/release/1.20.0-notes.html#deprecations\n",
            "  datos.describe(include=[np.object])\n"
          ]
        },
        {
          "data": {
            "text/html": [
              "<div>\n",
              "<style scoped>\n",
              "    .dataframe tbody tr th:only-of-type {\n",
              "        vertical-align: middle;\n",
              "    }\n",
              "\n",
              "    .dataframe tbody tr th {\n",
              "        vertical-align: top;\n",
              "    }\n",
              "\n",
              "    .dataframe thead th {\n",
              "        text-align: right;\n",
              "    }\n",
              "</style>\n",
              "<table border=\"1\" class=\"dataframe\">\n",
              "  <thead>\n",
              "    <tr style=\"text-align: right;\">\n",
              "      <th></th>\n",
              "      <th>id_recorrido</th>\n",
              "      <th>nombre_estacion_origen</th>\n",
              "      <th>direccion_estacion_origen</th>\n",
              "      <th>nombre_estacion_destino</th>\n",
              "      <th>direccion_estacion_destino</th>\n",
              "      <th>id_usuario</th>\n",
              "      <th>modelo_bicicleta</th>\n",
              "      <th>usuario_genero</th>\n",
              "    </tr>\n",
              "  </thead>\n",
              "  <tbody>\n",
              "    <tr>\n",
              "      <th>count</th>\n",
              "      <td>2860091</td>\n",
              "      <td>2860091</td>\n",
              "      <td>2860091</td>\n",
              "      <td>2860091</td>\n",
              "      <td>2860091</td>\n",
              "      <td>2860091</td>\n",
              "      <td>2860091</td>\n",
              "      <td>2841403</td>\n",
              "    </tr>\n",
              "    <tr>\n",
              "      <th>unique</th>\n",
              "      <td>2860091</td>\n",
              "      <td>274</td>\n",
              "      <td>274</td>\n",
              "      <td>275</td>\n",
              "      <td>274</td>\n",
              "      <td>181690</td>\n",
              "      <td>2</td>\n",
              "      <td>3</td>\n",
              "    </tr>\n",
              "    <tr>\n",
              "      <th>top</th>\n",
              "      <td>9920899BAEcobici</td>\n",
              "      <td>014 - Pacifico</td>\n",
              "      <td>Santa Fe Av. &amp; Bullrich, Int. Av.</td>\n",
              "      <td>014 - Pacifico</td>\n",
              "      <td>Santa Fe Av. &amp; Bullrich, Int. Av.</td>\n",
              "      <td>268778BAEcobici</td>\n",
              "      <td>ICONIC</td>\n",
              "      <td>MALE</td>\n",
              "    </tr>\n",
              "    <tr>\n",
              "      <th>freq</th>\n",
              "      <td>1</td>\n",
              "      <td>39082</td>\n",
              "      <td>39082</td>\n",
              "      <td>37392</td>\n",
              "      <td>37392</td>\n",
              "      <td>1147</td>\n",
              "      <td>2331139</td>\n",
              "      <td>1419327</td>\n",
              "    </tr>\n",
              "  </tbody>\n",
              "</table>\n",
              "</div>"
            ],
            "text/plain": [
              "            id_recorrido nombre_estacion_origen  \\\n",
              "count            2860091                2860091   \n",
              "unique           2860091                    274   \n",
              "top     9920899BAEcobici         014 - Pacifico   \n",
              "freq                   1                  39082   \n",
              "\n",
              "                direccion_estacion_origen nombre_estacion_destino  \\\n",
              "count                             2860091                 2860091   \n",
              "unique                                274                     275   \n",
              "top     Santa Fe Av. & Bullrich, Int. Av.          014 - Pacifico   \n",
              "freq                                39082                   37392   \n",
              "\n",
              "               direccion_estacion_destino       id_usuario modelo_bicicleta  \\\n",
              "count                             2860091          2860091          2860091   \n",
              "unique                                274           181690                2   \n",
              "top     Santa Fe Av. & Bullrich, Int. Av.  268778BAEcobici           ICONIC   \n",
              "freq                                37392             1147          2331139   \n",
              "\n",
              "       usuario_genero  \n",
              "count         2841403  \n",
              "unique              3  \n",
              "top              MALE  \n",
              "freq          1419327  "
            ]
          },
          "execution_count": 6,
          "metadata": {},
          "output_type": "execute_result"
        }
      ],
      "source": [
        "#Se hace estadistica de variables categoricas\n",
        "#En este caso la cantidad de estadisticas sera menor, dado el tipo de variable\n",
        "datos.describe(include=[np.object])"
      ]
    },
    {
      "attachments": {},
      "cell_type": "markdown",
      "metadata": {
        "cell_id": "246a07919f1a41d5a007bf2b369dc2c1",
        "deepnote_app_coordinates": {
          "h": 5,
          "w": 12,
          "x": 0,
          "y": 372
        },
        "deepnote_cell_type": "markdown",
        "id": "Vn33Wa9YQUZ-",
        "tags": []
      },
      "source": [
        "### Medidas de dispersión"
      ]
    },
    {
      "attachments": {},
      "cell_type": "markdown",
      "metadata": {
        "cell_id": "3eed6cd063494e9683ae87209da62557",
        "deepnote_app_coordinates": {
          "h": 5,
          "w": 12,
          "x": 0,
          "y": 378
        },
        "deepnote_cell_type": "markdown",
        "id": "PPSio448QUaC",
        "tags": []
      },
      "source": [
        "#### ¿Cuál es el valor máximo de las variables?"
      ]
    },
    {
      "cell_type": "code",
      "execution_count": 7,
      "metadata": {
        "cell_id": "bed2e679fb5d4ce3bd723d5929a21abc",
        "colab": {
          "base_uri": "https://localhost:8080/"
        },
        "deepnote_app_coordinates": {
          "h": 5,
          "w": 12,
          "x": 0,
          "y": 384
        },
        "deepnote_cell_type": "code",
        "deepnote_to_be_reexecuted": false,
        "execution_millis": 3349510,
        "execution_start": 1653452678218,
        "id": "0DhOGvqxQUaD",
        "outputId": "f91003da-6329-482d-e6b5-d6cbac5369e0",
        "output_cleared": true,
        "source_hash": "b623e53d",
        "tags": []
      },
      "outputs": [
        {
          "name": "stderr",
          "output_type": "stream",
          "text": [
            "/tmp/ipykernel_50328/607074239.py:1: FutureWarning: The default value of numeric_only in DataFrame.max is deprecated. In a future version, it will default to False. In addition, specifying 'numeric_only=None' is deprecated. Select only valid columns or specify the value of numeric_only to silence this warning.\n",
            "  datos.max()\n"
          ]
        },
        {
          "data": {
            "text/plain": [
              "id_recorrido                    9999999BAEcobici\n",
              "duracion_recorrido_segundos           13515225.0\n",
              "nombre_estacion_origen         Balboa Definitivo\n",
              "direccion_estacion_origen          o´higins 1327\n",
              "nombre_estacion_destino        Balboa Definitivo\n",
              "direccion_estacion_destino         o´higins 1327\n",
              "id_usuario                        99985BAEcobici\n",
              "modelo_bicicleta                          ICONIC\n",
              "origen_anio                                 2021\n",
              "origen_mes                                    12\n",
              "origen_dia                                    31\n",
              "origen_hora                                   23\n",
              "origen_minuto                                 59\n",
              "destino_anio                                2022\n",
              "destino_mes                                   12\n",
              "destino_dia                                   31\n",
              "destino_hora                                  23\n",
              "destino_minuto                                59\n",
              "dtype: object"
            ]
          },
          "execution_count": 7,
          "metadata": {},
          "output_type": "execute_result"
        }
      ],
      "source": [
        "datos.max()"
      ]
    },
    {
      "attachments": {},
      "cell_type": "markdown",
      "metadata": {
        "cell_id": "82b15e3fe680483abda6ae90be0e949e",
        "deepnote_app_coordinates": {
          "h": 5,
          "w": 12,
          "x": 0,
          "y": 390
        },
        "deepnote_cell_type": "markdown",
        "id": "MDWFhCidQUaE",
        "tags": []
      },
      "source": [
        "#### ¿Cuál es el valor mínimo de las variables?"
      ]
    },
    {
      "cell_type": "code",
      "execution_count": 8,
      "metadata": {
        "cell_id": "0b240626b3d7496089596e49a5f285e9",
        "colab": {
          "base_uri": "https://localhost:8080/"
        },
        "deepnote_app_coordinates": {
          "h": 5,
          "w": 12,
          "x": 0,
          "y": 396
        },
        "deepnote_cell_type": "code",
        "deepnote_to_be_reexecuted": false,
        "execution_millis": 3349505,
        "execution_start": 1653452678244,
        "id": "TQ9sj0xXQUaF",
        "outputId": "3177fd1d-ce2d-4beb-c420-b9d99db84c86",
        "output_cleared": true,
        "source_hash": "b623e53d",
        "tags": []
      },
      "outputs": [
        {
          "name": "stderr",
          "output_type": "stream",
          "text": [
            "/tmp/ipykernel_50328/3257292645.py:1: FutureWarning: The default value of numeric_only in DataFrame.min is deprecated. In a future version, it will default to False. In addition, specifying 'numeric_only=None' is deprecated. Select only valid columns or specify the value of numeric_only to silence this warning.\n",
            "  datos.min()\n"
          ]
        },
        {
          "data": {
            "text/plain": [
              "id_recorrido                           10000000BAEcobici\n",
              "duracion_recorrido_segundos                         61.0\n",
              "nombre_estacion_origen         001 - FACULTAD DE DERECHO\n",
              "direccion_estacion_origen                    1019 Riglos\n",
              "nombre_estacion_destino        001 - FACULTAD DE DERECHO\n",
              "direccion_estacion_destino                   1019 Riglos\n",
              "id_usuario                               100009BAEcobici\n",
              "modelo_bicicleta                                     FIT\n",
              "origen_anio                                         2021\n",
              "origen_mes                                             1\n",
              "origen_dia                                             1\n",
              "origen_hora                                            0\n",
              "origen_minuto                                          0\n",
              "destino_anio                                        2021\n",
              "destino_mes                                            1\n",
              "destino_dia                                            1\n",
              "destino_hora                                           0\n",
              "destino_minuto                                         0\n",
              "dtype: object"
            ]
          },
          "execution_count": 8,
          "metadata": {},
          "output_type": "execute_result"
        }
      ],
      "source": [
        "datos.min()"
      ]
    },
    {
      "attachments": {},
      "cell_type": "markdown",
      "metadata": {
        "cell_id": "99c4de6b19754f4c9078f2ab2f9fc377",
        "deepnote_app_coordinates": {
          "h": 5,
          "w": 12,
          "x": 0,
          "y": 426
        },
        "deepnote_cell_type": "markdown",
        "id": "ab0HxRpqQUaV",
        "tags": []
      },
      "source": [
        "#### ¿Cuál es el rango intercuartílico?"
      ]
    },
    {
      "cell_type": "code",
      "execution_count": 9,
      "metadata": {
        "cell_id": "13565efbca97453b8d8922408fd07b41",
        "colab": {
          "base_uri": "https://localhost:8080/"
        },
        "deepnote_app_coordinates": {
          "h": 5,
          "w": 12,
          "x": 0,
          "y": 432
        },
        "deepnote_cell_type": "code",
        "deepnote_to_be_reexecuted": false,
        "execution_millis": 3349482,
        "execution_start": 1653452678247,
        "id": "3nZkWHzyQUaW",
        "outputId": "2da6d662-a374-41a8-c188-e717117b37f9",
        "output_cleared": true,
        "source_hash": "b623e53d",
        "tags": []
      },
      "outputs": [
        {
          "name": "stderr",
          "output_type": "stream",
          "text": [
            "/tmp/ipykernel_50328/1531321204.py:2: FutureWarning: The default value of numeric_only in DataFrame.quantile is deprecated. In a future version, it will default to False. Select only valid columns or specify the value of numeric_only to silence this warning.\n",
            "  q3, q2, q1 = datos.quantile(0.75), datos.quantile(0.50), datos.quantile(0.25)\n"
          ]
        }
      ],
      "source": [
        "#Quartil 3\n",
        "q3, q2, q1 = datos.quantile(0.75), datos.quantile(0.50), datos.quantile(0.25)"
      ]
    },
    {
      "cell_type": "code",
      "execution_count": 10,
      "metadata": {
        "cell_id": "1ef60d1fe59c4fc5ab947f40923ac818",
        "deepnote_app_coordinates": {
          "h": 5,
          "w": 12,
          "x": 0,
          "y": 444
        },
        "deepnote_cell_type": "code",
        "deepnote_to_be_reexecuted": false,
        "execution_millis": 3349486,
        "execution_start": 1653452678258,
        "id": "bjGl3KNqQUaj",
        "output_cleared": true,
        "source_hash": "b623e53d",
        "tags": []
      },
      "outputs": [],
      "source": [
        "#Rango intercuartilico\n",
        "rango_intercuartilico = q3 - q1"
      ]
    },
    {
      "attachments": {},
      "cell_type": "markdown",
      "metadata": {
        "id": "VIjBCUHSbbyQ"
      },
      "source": [
        "### Codificacion de datos categoricos"
      ]
    },
    {
      "attachments": {},
      "cell_type": "markdown",
      "metadata": {
        "id": "59ozZkg0bbyT"
      },
      "source": [
        "#### Categoricos ordinales"
      ]
    },
    {
      "cell_type": "code",
      "execution_count": null,
      "metadata": {
        "id": "S49Mx4jfbbyV"
      },
      "outputs": [],
      "source": [
        "##No hay"
      ]
    },
    {
      "attachments": {},
      "cell_type": "markdown",
      "metadata": {
        "id": "QefzCnuUbbyW"
      },
      "source": [
        "#### Categoricos nominales"
      ]
    },
    {
      "cell_type": "code",
      "execution_count": 11,
      "metadata": {
        "id": "YSKy7KNobbyW"
      },
      "outputs": [],
      "source": [
        "from sklearn.preprocessing import LabelEncoder"
      ]
    },
    {
      "cell_type": "code",
      "execution_count": 46,
      "metadata": {
        "id": "ZSejRdkhbbyY"
      },
      "outputs": [],
      "source": [
        "# Seleccionar las columnas de tipo object\n",
        "object_columns = datos.select_dtypes(include=['object']).columns.copy()\n",
        "datos_codificados = datos.copy()\n",
        "\n",
        "# Iterar sobre las columnas seleccionadas y aplicar la codificación\n",
        "for column in object_columns:\n",
        "    encoder = LabelEncoder()\n",
        "    datos_codificados[column] = encoder.fit_transform(datos_codificados[column].astype(str))"
      ]
    },
    {
      "cell_type": "code",
      "execution_count": 13,
      "metadata": {
        "colab": {
          "base_uri": "https://localhost:8080/",
          "height": 488
        },
        "id": "G2w4YPX4bbyZ",
        "outputId": "bbcd8e76-2b32-46cb-d667-e4f92f2275eb"
      },
      "outputs": [
        {
          "data": {
            "text/html": [
              "<div>\n",
              "<style scoped>\n",
              "    .dataframe tbody tr th:only-of-type {\n",
              "        vertical-align: middle;\n",
              "    }\n",
              "\n",
              "    .dataframe tbody tr th {\n",
              "        vertical-align: top;\n",
              "    }\n",
              "\n",
              "    .dataframe thead th {\n",
              "        text-align: right;\n",
              "    }\n",
              "</style>\n",
              "<table border=\"1\" class=\"dataframe\">\n",
              "  <thead>\n",
              "    <tr style=\"text-align: right;\">\n",
              "      <th></th>\n",
              "      <th>id_recorrido</th>\n",
              "      <th>duracion_recorrido_segundos</th>\n",
              "      <th>nombre_estacion_origen</th>\n",
              "      <th>direccion_estacion_origen</th>\n",
              "      <th>nombre_estacion_destino</th>\n",
              "      <th>direccion_estacion_destino</th>\n",
              "      <th>id_usuario</th>\n",
              "      <th>modelo_bicicleta</th>\n",
              "      <th>usuario_genero</th>\n",
              "      <th>origen_anio</th>\n",
              "      <th>origen_mes</th>\n",
              "      <th>origen_dia</th>\n",
              "      <th>origen_hora</th>\n",
              "      <th>origen_minuto</th>\n",
              "      <th>destino_anio</th>\n",
              "      <th>destino_mes</th>\n",
              "      <th>destino_dia</th>\n",
              "      <th>destino_hora</th>\n",
              "      <th>destino_minuto</th>\n",
              "    </tr>\n",
              "  </thead>\n",
              "  <tbody>\n",
              "    <tr>\n",
              "      <th>0</th>\n",
              "      <td>2793276</td>\n",
              "      <td>2026.0</td>\n",
              "      <td>69</td>\n",
              "      <td>1</td>\n",
              "      <td>8</td>\n",
              "      <td>159</td>\n",
              "      <td>30907</td>\n",
              "      <td>1</td>\n",
              "      <td>2</td>\n",
              "      <td>2021</td>\n",
              "      <td>1</td>\n",
              "      <td>26</td>\n",
              "      <td>19</td>\n",
              "      <td>58</td>\n",
              "      <td>2021</td>\n",
              "      <td>1</td>\n",
              "      <td>26</td>\n",
              "      <td>20</td>\n",
              "      <td>31</td>\n",
              "    </tr>\n",
              "    <tr>\n",
              "      <th>1</th>\n",
              "      <td>2791381</td>\n",
              "      <td>1474.0</td>\n",
              "      <td>160</td>\n",
              "      <td>215</td>\n",
              "      <td>9</td>\n",
              "      <td>35</td>\n",
              "      <td>73145</td>\n",
              "      <td>1</td>\n",
              "      <td>2</td>\n",
              "      <td>2021</td>\n",
              "      <td>1</td>\n",
              "      <td>26</td>\n",
              "      <td>17</td>\n",
              "      <td>37</td>\n",
              "      <td>2021</td>\n",
              "      <td>1</td>\n",
              "      <td>26</td>\n",
              "      <td>18</td>\n",
              "      <td>2</td>\n",
              "    </tr>\n",
              "    <tr>\n",
              "      <th>2</th>\n",
              "      <td>2789969</td>\n",
              "      <td>629.0</td>\n",
              "      <td>136</td>\n",
              "      <td>172</td>\n",
              "      <td>11</td>\n",
              "      <td>120</td>\n",
              "      <td>95289</td>\n",
              "      <td>1</td>\n",
              "      <td>0</td>\n",
              "      <td>2021</td>\n",
              "      <td>1</td>\n",
              "      <td>26</td>\n",
              "      <td>15</td>\n",
              "      <td>24</td>\n",
              "      <td>2021</td>\n",
              "      <td>1</td>\n",
              "      <td>26</td>\n",
              "      <td>15</td>\n",
              "      <td>35</td>\n",
              "    </tr>\n",
              "    <tr>\n",
              "      <th>3</th>\n",
              "      <td>2791808</td>\n",
              "      <td>616.0</td>\n",
              "      <td>15</td>\n",
              "      <td>163</td>\n",
              "      <td>12</td>\n",
              "      <td>251</td>\n",
              "      <td>2488</td>\n",
              "      <td>1</td>\n",
              "      <td>0</td>\n",
              "      <td>2021</td>\n",
              "      <td>1</td>\n",
              "      <td>26</td>\n",
              "      <td>18</td>\n",
              "      <td>11</td>\n",
              "      <td>2021</td>\n",
              "      <td>1</td>\n",
              "      <td>26</td>\n",
              "      <td>18</td>\n",
              "      <td>21</td>\n",
              "    </tr>\n",
              "    <tr>\n",
              "      <th>4</th>\n",
              "      <td>2793918</td>\n",
              "      <td>684.0</td>\n",
              "      <td>37</td>\n",
              "      <td>108</td>\n",
              "      <td>12</td>\n",
              "      <td>251</td>\n",
              "      <td>73605</td>\n",
              "      <td>1</td>\n",
              "      <td>0</td>\n",
              "      <td>2021</td>\n",
              "      <td>1</td>\n",
              "      <td>26</td>\n",
              "      <td>20</td>\n",
              "      <td>38</td>\n",
              "      <td>2021</td>\n",
              "      <td>1</td>\n",
              "      <td>26</td>\n",
              "      <td>20</td>\n",
              "      <td>49</td>\n",
              "    </tr>\n",
              "    <tr>\n",
              "      <th>...</th>\n",
              "      <td>...</td>\n",
              "      <td>...</td>\n",
              "      <td>...</td>\n",
              "      <td>...</td>\n",
              "      <td>...</td>\n",
              "      <td>...</td>\n",
              "      <td>...</td>\n",
              "      <td>...</td>\n",
              "      <td>...</td>\n",
              "      <td>...</td>\n",
              "      <td>...</td>\n",
              "      <td>...</td>\n",
              "      <td>...</td>\n",
              "      <td>...</td>\n",
              "      <td>...</td>\n",
              "      <td>...</td>\n",
              "      <td>...</td>\n",
              "      <td>...</td>\n",
              "      <td>...</td>\n",
              "    </tr>\n",
              "    <tr>\n",
              "      <th>2860086</th>\n",
              "      <td>2401303</td>\n",
              "      <td>1578.0</td>\n",
              "      <td>77</td>\n",
              "      <td>58</td>\n",
              "      <td>265</td>\n",
              "      <td>29</td>\n",
              "      <td>96262</td>\n",
              "      <td>0</td>\n",
              "      <td>1</td>\n",
              "      <td>2021</td>\n",
              "      <td>12</td>\n",
              "      <td>10</td>\n",
              "      <td>18</td>\n",
              "      <td>28</td>\n",
              "      <td>2021</td>\n",
              "      <td>12</td>\n",
              "      <td>10</td>\n",
              "      <td>18</td>\n",
              "      <td>54</td>\n",
              "    </tr>\n",
              "    <tr>\n",
              "      <th>2860087</th>\n",
              "      <td>2395533</td>\n",
              "      <td>3008.0</td>\n",
              "      <td>166</td>\n",
              "      <td>12</td>\n",
              "      <td>178</td>\n",
              "      <td>218</td>\n",
              "      <td>11597</td>\n",
              "      <td>0</td>\n",
              "      <td>1</td>\n",
              "      <td>2021</td>\n",
              "      <td>12</td>\n",
              "      <td>10</td>\n",
              "      <td>10</td>\n",
              "      <td>36</td>\n",
              "      <td>2021</td>\n",
              "      <td>12</td>\n",
              "      <td>10</td>\n",
              "      <td>11</td>\n",
              "      <td>26</td>\n",
              "    </tr>\n",
              "    <tr>\n",
              "      <th>2860088</th>\n",
              "      <td>2400376</td>\n",
              "      <td>2072.0</td>\n",
              "      <td>203</td>\n",
              "      <td>155</td>\n",
              "      <td>92</td>\n",
              "      <td>239</td>\n",
              "      <td>37200</td>\n",
              "      <td>0</td>\n",
              "      <td>1</td>\n",
              "      <td>2021</td>\n",
              "      <td>12</td>\n",
              "      <td>10</td>\n",
              "      <td>17</td>\n",
              "      <td>29</td>\n",
              "      <td>2021</td>\n",
              "      <td>12</td>\n",
              "      <td>10</td>\n",
              "      <td>18</td>\n",
              "      <td>4</td>\n",
              "    </tr>\n",
              "    <tr>\n",
              "      <th>2860089</th>\n",
              "      <td>2396562</td>\n",
              "      <td>1246.0</td>\n",
              "      <td>173</td>\n",
              "      <td>169</td>\n",
              "      <td>173</td>\n",
              "      <td>89</td>\n",
              "      <td>148213</td>\n",
              "      <td>0</td>\n",
              "      <td>0</td>\n",
              "      <td>2021</td>\n",
              "      <td>12</td>\n",
              "      <td>10</td>\n",
              "      <td>12</td>\n",
              "      <td>36</td>\n",
              "      <td>2021</td>\n",
              "      <td>12</td>\n",
              "      <td>10</td>\n",
              "      <td>12</td>\n",
              "      <td>56</td>\n",
              "    </tr>\n",
              "    <tr>\n",
              "      <th>2860090</th>\n",
              "      <td>2400268</td>\n",
              "      <td>1514.0</td>\n",
              "      <td>172</td>\n",
              "      <td>89</td>\n",
              "      <td>173</td>\n",
              "      <td>89</td>\n",
              "      <td>137039</td>\n",
              "      <td>0</td>\n",
              "      <td>1</td>\n",
              "      <td>2021</td>\n",
              "      <td>12</td>\n",
              "      <td>10</td>\n",
              "      <td>17</td>\n",
              "      <td>22</td>\n",
              "      <td>2021</td>\n",
              "      <td>12</td>\n",
              "      <td>10</td>\n",
              "      <td>17</td>\n",
              "      <td>48</td>\n",
              "    </tr>\n",
              "  </tbody>\n",
              "</table>\n",
              "<p>2860091 rows × 19 columns</p>\n",
              "</div>"
            ],
            "text/plain": [
              "         id_recorrido  duracion_recorrido_segundos  nombre_estacion_origen  \\\n",
              "0             2793276                       2026.0                      69   \n",
              "1             2791381                       1474.0                     160   \n",
              "2             2789969                        629.0                     136   \n",
              "3             2791808                        616.0                      15   \n",
              "4             2793918                        684.0                      37   \n",
              "...               ...                          ...                     ...   \n",
              "2860086       2401303                       1578.0                      77   \n",
              "2860087       2395533                       3008.0                     166   \n",
              "2860088       2400376                       2072.0                     203   \n",
              "2860089       2396562                       1246.0                     173   \n",
              "2860090       2400268                       1514.0                     172   \n",
              "\n",
              "         direccion_estacion_origen  nombre_estacion_destino  \\\n",
              "0                                1                        8   \n",
              "1                              215                        9   \n",
              "2                              172                       11   \n",
              "3                              163                       12   \n",
              "4                              108                       12   \n",
              "...                            ...                      ...   \n",
              "2860086                         58                      265   \n",
              "2860087                         12                      178   \n",
              "2860088                        155                       92   \n",
              "2860089                        169                      173   \n",
              "2860090                         89                      173   \n",
              "\n",
              "         direccion_estacion_destino  id_usuario  modelo_bicicleta  \\\n",
              "0                               159       30907                 1   \n",
              "1                                35       73145                 1   \n",
              "2                               120       95289                 1   \n",
              "3                               251        2488                 1   \n",
              "4                               251       73605                 1   \n",
              "...                             ...         ...               ...   \n",
              "2860086                          29       96262                 0   \n",
              "2860087                         218       11597                 0   \n",
              "2860088                         239       37200                 0   \n",
              "2860089                          89      148213                 0   \n",
              "2860090                          89      137039                 0   \n",
              "\n",
              "         usuario_genero  origen_anio  origen_mes  origen_dia  origen_hora  \\\n",
              "0                     2         2021           1          26           19   \n",
              "1                     2         2021           1          26           17   \n",
              "2                     0         2021           1          26           15   \n",
              "3                     0         2021           1          26           18   \n",
              "4                     0         2021           1          26           20   \n",
              "...                 ...          ...         ...         ...          ...   \n",
              "2860086               1         2021          12          10           18   \n",
              "2860087               1         2021          12          10           10   \n",
              "2860088               1         2021          12          10           17   \n",
              "2860089               0         2021          12          10           12   \n",
              "2860090               1         2021          12          10           17   \n",
              "\n",
              "         origen_minuto  destino_anio  destino_mes  destino_dia  destino_hora  \\\n",
              "0                   58          2021            1           26            20   \n",
              "1                   37          2021            1           26            18   \n",
              "2                   24          2021            1           26            15   \n",
              "3                   11          2021            1           26            18   \n",
              "4                   38          2021            1           26            20   \n",
              "...                ...           ...          ...          ...           ...   \n",
              "2860086             28          2021           12           10            18   \n",
              "2860087             36          2021           12           10            11   \n",
              "2860088             29          2021           12           10            18   \n",
              "2860089             36          2021           12           10            12   \n",
              "2860090             22          2021           12           10            17   \n",
              "\n",
              "         destino_minuto  \n",
              "0                    31  \n",
              "1                     2  \n",
              "2                    35  \n",
              "3                    21  \n",
              "4                    49  \n",
              "...                 ...  \n",
              "2860086              54  \n",
              "2860087              26  \n",
              "2860088               4  \n",
              "2860089              56  \n",
              "2860090              48  \n",
              "\n",
              "[2860091 rows x 19 columns]"
            ]
          },
          "execution_count": 13,
          "metadata": {},
          "output_type": "execute_result"
        }
      ],
      "source": [
        "datos"
      ]
    },
    {
      "attachments": {},
      "cell_type": "markdown",
      "metadata": {
        "id": "cz-r2koJbbxx"
      },
      "source": [
        "## Escalamiento"
      ]
    },
    {
      "attachments": {},
      "cell_type": "markdown",
      "metadata": {
        "id": "T8sOmJFkbbxy"
      },
      "source": [
        "### Escala en función del mínimo y máximo"
      ]
    },
    {
      "cell_type": "code",
      "execution_count": 14,
      "metadata": {
        "id": "5fT0Qobobbxz"
      },
      "outputs": [],
      "source": [
        "from sklearn.preprocessing import MinMaxScaler"
      ]
    },
    {
      "cell_type": "code",
      "execution_count": 15,
      "metadata": {
        "id": "4o8YPxo_bbx5"
      },
      "outputs": [],
      "source": [
        "# Separar características numéricas y categóricas\n",
        "numeric_features = datos.select_dtypes(include=['int', 'float']).columns\n",
        "\n",
        "# Escalamiento de características numéricas\n",
        "scaler = MinMaxScaler()\n",
        "scaled_data = datos.copy()\n",
        "scaled_data[numeric_features] = scaler.fit_transform(datos[numeric_features])"
      ]
    },
    {
      "cell_type": "code",
      "execution_count": 16,
      "metadata": {
        "id": "SUQCLZpzbbx6"
      },
      "outputs": [],
      "source": [
        "# convierte vectores de numpy a DataFrames para graficarlos\n",
        "datos_escalados = pd.DataFrame(scaled_data, columns=datos.columns)"
      ]
    },
    {
      "cell_type": "code",
      "execution_count": 17,
      "metadata": {
        "colab": {
          "base_uri": "https://localhost:8080/",
          "height": 166
        },
        "id": "ZYXpA_wXbbyF",
        "outputId": "a788f4be-6f28-48b7-9cc0-1dace1052bc7"
      },
      "outputs": [
        {
          "data": {
            "text/html": [
              "<div>\n",
              "<style scoped>\n",
              "    .dataframe tbody tr th:only-of-type {\n",
              "        vertical-align: middle;\n",
              "    }\n",
              "\n",
              "    .dataframe tbody tr th {\n",
              "        vertical-align: top;\n",
              "    }\n",
              "\n",
              "    .dataframe thead th {\n",
              "        text-align: right;\n",
              "    }\n",
              "</style>\n",
              "<table border=\"1\" class=\"dataframe\">\n",
              "  <thead>\n",
              "    <tr style=\"text-align: right;\">\n",
              "      <th></th>\n",
              "      <th>id_recorrido</th>\n",
              "      <th>duracion_recorrido_segundos</th>\n",
              "      <th>nombre_estacion_origen</th>\n",
              "      <th>direccion_estacion_origen</th>\n",
              "      <th>nombre_estacion_destino</th>\n",
              "      <th>direccion_estacion_destino</th>\n",
              "      <th>id_usuario</th>\n",
              "      <th>modelo_bicicleta</th>\n",
              "      <th>usuario_genero</th>\n",
              "      <th>origen_anio</th>\n",
              "      <th>origen_mes</th>\n",
              "      <th>origen_dia</th>\n",
              "      <th>origen_hora</th>\n",
              "      <th>origen_minuto</th>\n",
              "      <th>destino_anio</th>\n",
              "      <th>destino_mes</th>\n",
              "      <th>destino_dia</th>\n",
              "      <th>destino_hora</th>\n",
              "      <th>destino_minuto</th>\n",
              "    </tr>\n",
              "  </thead>\n",
              "  <tbody>\n",
              "    <tr>\n",
              "      <th>0</th>\n",
              "      <td>0.976639</td>\n",
              "      <td>0.000145</td>\n",
              "      <td>0.252747</td>\n",
              "      <td>0.003663</td>\n",
              "      <td>0.029197</td>\n",
              "      <td>0.582418</td>\n",
              "      <td>0.170109</td>\n",
              "      <td>1.0</td>\n",
              "      <td>0.666667</td>\n",
              "      <td>0.0</td>\n",
              "      <td>0.0</td>\n",
              "      <td>0.833333</td>\n",
              "      <td>0.826087</td>\n",
              "      <td>0.983051</td>\n",
              "      <td>0.0</td>\n",
              "      <td>0.0</td>\n",
              "      <td>0.833333</td>\n",
              "      <td>0.869565</td>\n",
              "      <td>0.525424</td>\n",
              "    </tr>\n",
              "    <tr>\n",
              "      <th>1</th>\n",
              "      <td>0.975977</td>\n",
              "      <td>0.000105</td>\n",
              "      <td>0.586081</td>\n",
              "      <td>0.787546</td>\n",
              "      <td>0.032847</td>\n",
              "      <td>0.128205</td>\n",
              "      <td>0.402584</td>\n",
              "      <td>1.0</td>\n",
              "      <td>0.666667</td>\n",
              "      <td>0.0</td>\n",
              "      <td>0.0</td>\n",
              "      <td>0.833333</td>\n",
              "      <td>0.739130</td>\n",
              "      <td>0.627119</td>\n",
              "      <td>0.0</td>\n",
              "      <td>0.0</td>\n",
              "      <td>0.833333</td>\n",
              "      <td>0.782609</td>\n",
              "      <td>0.033898</td>\n",
              "    </tr>\n",
              "    <tr>\n",
              "      <th>2</th>\n",
              "      <td>0.975483</td>\n",
              "      <td>0.000042</td>\n",
              "      <td>0.498168</td>\n",
              "      <td>0.630037</td>\n",
              "      <td>0.040146</td>\n",
              "      <td>0.439560</td>\n",
              "      <td>0.524462</td>\n",
              "      <td>1.0</td>\n",
              "      <td>0.000000</td>\n",
              "      <td>0.0</td>\n",
              "      <td>0.0</td>\n",
              "      <td>0.833333</td>\n",
              "      <td>0.652174</td>\n",
              "      <td>0.406780</td>\n",
              "      <td>0.0</td>\n",
              "      <td>0.0</td>\n",
              "      <td>0.833333</td>\n",
              "      <td>0.652174</td>\n",
              "      <td>0.593220</td>\n",
              "    </tr>\n",
              "    <tr>\n",
              "      <th>3</th>\n",
              "      <td>0.976126</td>\n",
              "      <td>0.000041</td>\n",
              "      <td>0.054945</td>\n",
              "      <td>0.597070</td>\n",
              "      <td>0.043796</td>\n",
              "      <td>0.919414</td>\n",
              "      <td>0.013694</td>\n",
              "      <td>1.0</td>\n",
              "      <td>0.000000</td>\n",
              "      <td>0.0</td>\n",
              "      <td>0.0</td>\n",
              "      <td>0.833333</td>\n",
              "      <td>0.782609</td>\n",
              "      <td>0.186441</td>\n",
              "      <td>0.0</td>\n",
              "      <td>0.0</td>\n",
              "      <td>0.833333</td>\n",
              "      <td>0.782609</td>\n",
              "      <td>0.355932</td>\n",
              "    </tr>\n",
              "    <tr>\n",
              "      <th>4</th>\n",
              "      <td>0.976864</td>\n",
              "      <td>0.000046</td>\n",
              "      <td>0.135531</td>\n",
              "      <td>0.395604</td>\n",
              "      <td>0.043796</td>\n",
              "      <td>0.919414</td>\n",
              "      <td>0.405115</td>\n",
              "      <td>1.0</td>\n",
              "      <td>0.000000</td>\n",
              "      <td>0.0</td>\n",
              "      <td>0.0</td>\n",
              "      <td>0.833333</td>\n",
              "      <td>0.869565</td>\n",
              "      <td>0.644068</td>\n",
              "      <td>0.0</td>\n",
              "      <td>0.0</td>\n",
              "      <td>0.833333</td>\n",
              "      <td>0.869565</td>\n",
              "      <td>0.830508</td>\n",
              "    </tr>\n",
              "    <tr>\n",
              "      <th>...</th>\n",
              "      <td>...</td>\n",
              "      <td>...</td>\n",
              "      <td>...</td>\n",
              "      <td>...</td>\n",
              "      <td>...</td>\n",
              "      <td>...</td>\n",
              "      <td>...</td>\n",
              "      <td>...</td>\n",
              "      <td>...</td>\n",
              "      <td>...</td>\n",
              "      <td>...</td>\n",
              "      <td>...</td>\n",
              "      <td>...</td>\n",
              "      <td>...</td>\n",
              "      <td>...</td>\n",
              "      <td>...</td>\n",
              "      <td>...</td>\n",
              "      <td>...</td>\n",
              "      <td>...</td>\n",
              "    </tr>\n",
              "    <tr>\n",
              "      <th>2860086</th>\n",
              "      <td>0.839590</td>\n",
              "      <td>0.000112</td>\n",
              "      <td>0.282051</td>\n",
              "      <td>0.212454</td>\n",
              "      <td>0.967153</td>\n",
              "      <td>0.106227</td>\n",
              "      <td>0.529817</td>\n",
              "      <td>0.0</td>\n",
              "      <td>0.333333</td>\n",
              "      <td>0.0</td>\n",
              "      <td>1.0</td>\n",
              "      <td>0.300000</td>\n",
              "      <td>0.782609</td>\n",
              "      <td>0.474576</td>\n",
              "      <td>0.0</td>\n",
              "      <td>1.0</td>\n",
              "      <td>0.300000</td>\n",
              "      <td>0.782609</td>\n",
              "      <td>0.915254</td>\n",
              "    </tr>\n",
              "    <tr>\n",
              "      <th>2860087</th>\n",
              "      <td>0.837573</td>\n",
              "      <td>0.000218</td>\n",
              "      <td>0.608059</td>\n",
              "      <td>0.043956</td>\n",
              "      <td>0.649635</td>\n",
              "      <td>0.798535</td>\n",
              "      <td>0.063829</td>\n",
              "      <td>0.0</td>\n",
              "      <td>0.333333</td>\n",
              "      <td>0.0</td>\n",
              "      <td>1.0</td>\n",
              "      <td>0.300000</td>\n",
              "      <td>0.434783</td>\n",
              "      <td>0.610169</td>\n",
              "      <td>0.0</td>\n",
              "      <td>1.0</td>\n",
              "      <td>0.300000</td>\n",
              "      <td>0.478261</td>\n",
              "      <td>0.440678</td>\n",
              "    </tr>\n",
              "    <tr>\n",
              "      <th>2860088</th>\n",
              "      <td>0.839266</td>\n",
              "      <td>0.000149</td>\n",
              "      <td>0.743590</td>\n",
              "      <td>0.567766</td>\n",
              "      <td>0.335766</td>\n",
              "      <td>0.875458</td>\n",
              "      <td>0.204745</td>\n",
              "      <td>0.0</td>\n",
              "      <td>0.333333</td>\n",
              "      <td>0.0</td>\n",
              "      <td>1.0</td>\n",
              "      <td>0.300000</td>\n",
              "      <td>0.739130</td>\n",
              "      <td>0.491525</td>\n",
              "      <td>0.0</td>\n",
              "      <td>1.0</td>\n",
              "      <td>0.300000</td>\n",
              "      <td>0.782609</td>\n",
              "      <td>0.067797</td>\n",
              "    </tr>\n",
              "    <tr>\n",
              "      <th>2860089</th>\n",
              "      <td>0.837932</td>\n",
              "      <td>0.000088</td>\n",
              "      <td>0.633700</td>\n",
              "      <td>0.619048</td>\n",
              "      <td>0.631387</td>\n",
              "      <td>0.326007</td>\n",
              "      <td>0.815751</td>\n",
              "      <td>0.0</td>\n",
              "      <td>0.000000</td>\n",
              "      <td>0.0</td>\n",
              "      <td>1.0</td>\n",
              "      <td>0.300000</td>\n",
              "      <td>0.521739</td>\n",
              "      <td>0.610169</td>\n",
              "      <td>0.0</td>\n",
              "      <td>1.0</td>\n",
              "      <td>0.300000</td>\n",
              "      <td>0.521739</td>\n",
              "      <td>0.949153</td>\n",
              "    </tr>\n",
              "    <tr>\n",
              "      <th>2860090</th>\n",
              "      <td>0.839228</td>\n",
              "      <td>0.000108</td>\n",
              "      <td>0.630037</td>\n",
              "      <td>0.326007</td>\n",
              "      <td>0.631387</td>\n",
              "      <td>0.326007</td>\n",
              "      <td>0.754250</td>\n",
              "      <td>0.0</td>\n",
              "      <td>0.333333</td>\n",
              "      <td>0.0</td>\n",
              "      <td>1.0</td>\n",
              "      <td>0.300000</td>\n",
              "      <td>0.739130</td>\n",
              "      <td>0.372881</td>\n",
              "      <td>0.0</td>\n",
              "      <td>1.0</td>\n",
              "      <td>0.300000</td>\n",
              "      <td>0.739130</td>\n",
              "      <td>0.813559</td>\n",
              "    </tr>\n",
              "  </tbody>\n",
              "</table>\n",
              "<p>2860091 rows × 19 columns</p>\n",
              "</div>"
            ],
            "text/plain": [
              "         id_recorrido  duracion_recorrido_segundos  nombre_estacion_origen  \\\n",
              "0            0.976639                     0.000145                0.252747   \n",
              "1            0.975977                     0.000105                0.586081   \n",
              "2            0.975483                     0.000042                0.498168   \n",
              "3            0.976126                     0.000041                0.054945   \n",
              "4            0.976864                     0.000046                0.135531   \n",
              "...               ...                          ...                     ...   \n",
              "2860086      0.839590                     0.000112                0.282051   \n",
              "2860087      0.837573                     0.000218                0.608059   \n",
              "2860088      0.839266                     0.000149                0.743590   \n",
              "2860089      0.837932                     0.000088                0.633700   \n",
              "2860090      0.839228                     0.000108                0.630037   \n",
              "\n",
              "         direccion_estacion_origen  nombre_estacion_destino  \\\n",
              "0                         0.003663                 0.029197   \n",
              "1                         0.787546                 0.032847   \n",
              "2                         0.630037                 0.040146   \n",
              "3                         0.597070                 0.043796   \n",
              "4                         0.395604                 0.043796   \n",
              "...                            ...                      ...   \n",
              "2860086                   0.212454                 0.967153   \n",
              "2860087                   0.043956                 0.649635   \n",
              "2860088                   0.567766                 0.335766   \n",
              "2860089                   0.619048                 0.631387   \n",
              "2860090                   0.326007                 0.631387   \n",
              "\n",
              "         direccion_estacion_destino  id_usuario  modelo_bicicleta  \\\n",
              "0                          0.582418    0.170109               1.0   \n",
              "1                          0.128205    0.402584               1.0   \n",
              "2                          0.439560    0.524462               1.0   \n",
              "3                          0.919414    0.013694               1.0   \n",
              "4                          0.919414    0.405115               1.0   \n",
              "...                             ...         ...               ...   \n",
              "2860086                    0.106227    0.529817               0.0   \n",
              "2860087                    0.798535    0.063829               0.0   \n",
              "2860088                    0.875458    0.204745               0.0   \n",
              "2860089                    0.326007    0.815751               0.0   \n",
              "2860090                    0.326007    0.754250               0.0   \n",
              "\n",
              "         usuario_genero  origen_anio  origen_mes  origen_dia  origen_hora  \\\n",
              "0              0.666667          0.0         0.0    0.833333     0.826087   \n",
              "1              0.666667          0.0         0.0    0.833333     0.739130   \n",
              "2              0.000000          0.0         0.0    0.833333     0.652174   \n",
              "3              0.000000          0.0         0.0    0.833333     0.782609   \n",
              "4              0.000000          0.0         0.0    0.833333     0.869565   \n",
              "...                 ...          ...         ...         ...          ...   \n",
              "2860086        0.333333          0.0         1.0    0.300000     0.782609   \n",
              "2860087        0.333333          0.0         1.0    0.300000     0.434783   \n",
              "2860088        0.333333          0.0         1.0    0.300000     0.739130   \n",
              "2860089        0.000000          0.0         1.0    0.300000     0.521739   \n",
              "2860090        0.333333          0.0         1.0    0.300000     0.739130   \n",
              "\n",
              "         origen_minuto  destino_anio  destino_mes  destino_dia  destino_hora  \\\n",
              "0             0.983051           0.0          0.0     0.833333      0.869565   \n",
              "1             0.627119           0.0          0.0     0.833333      0.782609   \n",
              "2             0.406780           0.0          0.0     0.833333      0.652174   \n",
              "3             0.186441           0.0          0.0     0.833333      0.782609   \n",
              "4             0.644068           0.0          0.0     0.833333      0.869565   \n",
              "...                ...           ...          ...          ...           ...   \n",
              "2860086       0.474576           0.0          1.0     0.300000      0.782609   \n",
              "2860087       0.610169           0.0          1.0     0.300000      0.478261   \n",
              "2860088       0.491525           0.0          1.0     0.300000      0.782609   \n",
              "2860089       0.610169           0.0          1.0     0.300000      0.521739   \n",
              "2860090       0.372881           0.0          1.0     0.300000      0.739130   \n",
              "\n",
              "         destino_minuto  \n",
              "0              0.525424  \n",
              "1              0.033898  \n",
              "2              0.593220  \n",
              "3              0.355932  \n",
              "4              0.830508  \n",
              "...                 ...  \n",
              "2860086        0.915254  \n",
              "2860087        0.440678  \n",
              "2860088        0.067797  \n",
              "2860089        0.949153  \n",
              "2860090        0.813559  \n",
              "\n",
              "[2860091 rows x 19 columns]"
            ]
          },
          "execution_count": 17,
          "metadata": {},
          "output_type": "execute_result"
        }
      ],
      "source": [
        "datos_escalados"
      ]
    },
    {
      "cell_type": "code",
      "execution_count": 18,
      "metadata": {
        "id": "Gjuly5iybbya",
        "outputId": "8142ce09-6c18-492f-87a2-2819e0dd2aed"
      },
      "outputs": [
        {
          "name": "stdout",
          "output_type": "stream",
          "text": [
            "<class 'pandas.core.frame.DataFrame'>\n",
            "RangeIndex: 2860091 entries, 0 to 2860090\n",
            "Data columns (total 19 columns):\n",
            " #   Column                       Dtype  \n",
            "---  ------                       -----  \n",
            " 0   id_recorrido                 float64\n",
            " 1   duracion_recorrido_segundos  float64\n",
            " 2   nombre_estacion_origen       float64\n",
            " 3   direccion_estacion_origen    float64\n",
            " 4   nombre_estacion_destino      float64\n",
            " 5   direccion_estacion_destino   float64\n",
            " 6   id_usuario                   float64\n",
            " 7   modelo_bicicleta             float64\n",
            " 8   usuario_genero               float64\n",
            " 9   origen_anio                  float64\n",
            " 10  origen_mes                   float64\n",
            " 11  origen_dia                   float64\n",
            " 12  origen_hora                  float64\n",
            " 13  origen_minuto                float64\n",
            " 14  destino_anio                 float64\n",
            " 15  destino_mes                  float64\n",
            " 16  destino_dia                  float64\n",
            " 17  destino_hora                 float64\n",
            " 18  destino_minuto               float64\n",
            "dtypes: float64(19)\n",
            "memory usage: 414.6 MB\n"
          ]
        }
      ],
      "source": [
        "datos_escalados.info()"
      ]
    },
    {
      "attachments": {},
      "cell_type": "markdown",
      "metadata": {
        "id": "tLLxbC1V-AIV"
      },
      "source": [
        "## Relacion entre variables"
      ]
    },
    {
      "cell_type": "code",
      "execution_count": 19,
      "metadata": {
        "cell_id": "bdf278456f1e4f38b2831e1297a6b992",
        "deepnote_app_coordinates": {
          "h": 5,
          "w": 12,
          "x": 0,
          "y": 36
        },
        "deepnote_cell_type": "code",
        "deepnote_to_be_reexecuted": false,
        "execution_millis": 23,
        "execution_start": 1653452678007,
        "id": "4LiKSzm9QUXv",
        "output_cleared": true,
        "source_hash": "f87a87ef",
        "tags": []
      },
      "outputs": [],
      "source": [
        "#Establece que los graficos se muestren luego de la celda de codigo que los ejecuto\n",
        "%matplotlib inline\n",
        "sns.set_style(style='whitegrid')\n",
        "#Se elige el tipo de contexto como notebook\n",
        "sns.set_context(context='notebook')\n",
        "#Se define el tamaño por defecto del cuadro de os graficos\n",
        "plt.rcParams['figure.figsize'] = (11, 9.4)"
      ]
    },
    {
      "attachments": {},
      "cell_type": "markdown",
      "metadata": {},
      "source": [
        "# Visualizacion de insight"
      ]
    },
    {
      "attachments": {},
      "cell_type": "markdown",
      "metadata": {
        "id": "CCD6Sbtf-GAA"
      },
      "source": [
        "### Matriz de correlacion"
      ]
    },
    {
      "cell_type": "code",
      "execution_count": 24,
      "metadata": {
        "colab": {
          "base_uri": "https://localhost:8080/",
          "height": 1000
        },
        "id": "WyDhWiTaZ-iY",
        "outputId": "eac4a15a-4eec-4c46-f007-fe9e8d7bf878"
      },
      "outputs": [
        {
          "data": {
            "image/png": "[encoded data removed]",
            "text/plain": [
              "<Figure size 1296x1368 with 2 Axes>"
            ]
          },
          "metadata": {},
          "output_type": "display_data"
        }
      ],
      "source": [
        "# Crear la matriz de correlación\n",
        "correlation_matrix = datos_escalados.corr()\n",
        "plt.figure(figsize=[18,19])\n",
        "# Crear el mapa de calor utilizando Seaborn\n",
        "sns.heatmap(correlation_matrix, annot=True, cmap='coolwarm')\n",
        "\n",
        "# Mostrar el gráfico\n",
        "plt.show()"
      ]
    },
    {
      "attachments": {},
      "cell_type": "markdown",
      "metadata": {
        "id": "FhKquEAgf9YT"
      },
      "source": [
        "### Relaciones entre pares de variables con correlacion superior al 40%"
      ]
    },
    {
      "cell_type": "code",
      "execution_count": 25,
      "metadata": {
        "id": "ruSXG022-inf"
      },
      "outputs": [],
      "source": [
        "def filtrar_trios_correlacionados(df_correlacion, umbral):\n",
        "    columnas = df_correlacion.columns\n",
        "    trios_correlacionados = []\n",
        "\n",
        "    for i in range(len(columnas)):\n",
        "        for j in range(i+1, len(columnas)):\n",
        "            for k in range(j+1, len(columnas)):\n",
        "                correlacion_ij = abs(df_correlacion.iloc[i, j])\n",
        "                correlacion_ik = abs(df_correlacion.iloc[i, k])\n",
        "                correlacion_jk = abs(df_correlacion.iloc[j, k])\n",
        "\n",
        "                if correlacion_ij > umbral and correlacion_ik > umbral and correlacion_jk > umbral:\n",
        "                    trios_correlacionados.append((columnas[i], columnas[j], columnas[k]))\n",
        "\n",
        "    return trios_correlacionados\n"
      ]
    },
    {
      "cell_type": "code",
      "execution_count": 32,
      "metadata": {},
      "outputs": [],
      "source": [
        "def filtrar_pares_correlacionados(df_correlacion, umbral):\n",
        "    columnas = df_correlacion.columns\n",
        "    pares_correlacionados = []\n",
        "\n",
        "    for i in range(len(columnas)):\n",
        "        for j in range(i+1, len(columnas)):\n",
        "                correlacion_ii = abs(df_correlacion.iloc[i, i])\n",
        "                correlacion_ij = abs(df_correlacion.iloc[i, j])\n",
        "\n",
        "                if correlacion_ij > umbral and correlacion_ii > umbral:\n",
        "                    pares_correlacionados.append((columnas[i], columnas[j]))\n",
        "\n",
        "    return pares_correlacionados"
      ]
    },
    {
      "cell_type": "code",
      "execution_count": 30,
      "metadata": {},
      "outputs": [],
      "source": [
        "umbral = 0.4"
      ]
    },
    {
      "cell_type": "code",
      "execution_count": 34,
      "metadata": {
        "id": "3J3aCT6T_Tjs"
      },
      "outputs": [
        {
          "data": {
            "text/plain": [
              "[('id_recorrido', 'origen_mes', 'destino_mes'),\n",
              " ('modelo_bicicleta', 'origen_mes', 'destino_mes')]"
            ]
          },
          "execution_count": 34,
          "metadata": {},
          "output_type": "execute_result"
        }
      ],
      "source": [
        "trios_filtrados = filtrar_trios_correlacionados(correlation_matrix, umbral)\n",
        "trios_filtrados"
      ]
    },
    {
      "cell_type": "code",
      "execution_count": 33,
      "metadata": {},
      "outputs": [
        {
          "data": {
            "text/plain": [
              "[('id_recorrido', 'origen_mes'),\n",
              " ('id_recorrido', 'destino_mes'),\n",
              " ('modelo_bicicleta', 'origen_mes'),\n",
              " ('modelo_bicicleta', 'destino_mes'),\n",
              " ('origen_mes', 'destino_mes'),\n",
              " ('origen_dia', 'destino_dia'),\n",
              " ('origen_hora', 'destino_hora')]"
            ]
          },
          "execution_count": 33,
          "metadata": {},
          "output_type": "execute_result"
        }
      ],
      "source": [
        "pares_correlacionados = filtrar_pares_correlacionados(correlation_matrix, umbral)\n",
        "pares_correlacionados"
      ]
    },
    {
      "attachments": {},
      "cell_type": "markdown",
      "metadata": {},
      "source": [
        "#### Relaciones entre variables individuales"
      ]
    },
    {
      "cell_type": "code",
      "execution_count": 50,
      "metadata": {},
      "outputs": [
        {
          "data": {
            "text/plain": [
              "[('id_recorrido', 'origen_mes'),\n",
              " ('id_recorrido', 'destino_mes'),\n",
              " ('modelo_bicicleta', 'origen_mes'),\n",
              " ('modelo_bicicleta', 'destino_mes'),\n",
              " ('origen_mes', 'destino_mes'),\n",
              " ('origen_dia', 'destino_dia'),\n",
              " ('origen_hora', 'destino_hora')]"
            ]
          },
          "execution_count": 50,
          "metadata": {},
          "output_type": "execute_result"
        }
      ],
      "source": [
        "pares_correlacionados"
      ]
    },
    {
      "cell_type": "code",
      "execution_count": 59,
      "metadata": {},
      "outputs": [
        {
          "data": {
            "text/plain": [
              "([('id_recorrido', 'origen_mes'),\n",
              "  ('id_recorrido', 'destino_mes'),\n",
              "  ('modelo_bicicleta', 'origen_mes'),\n",
              "  ('modelo_bicicleta', 'destino_mes'),\n",
              "  ('origen_mes', 'destino_mes'),\n",
              "  ('origen_dia', 'destino_dia'),\n",
              "  ('origen_hora', 'destino_hora')],\n",
              " [('id_recorrido', 'origen_mes', 'destino_mes'),\n",
              "  ('modelo_bicicleta', 'origen_mes', 'destino_mes')])"
            ]
          },
          "execution_count": 59,
          "metadata": {},
          "output_type": "execute_result"
        }
      ],
      "source": [
        "(pares_correlacionados, trios_filtrados)"
      ]
    },
    {
      "attachments": {},
      "cell_type": "markdown",
      "metadata": {
        "id": "2VRpOp3NBk8c"
      },
      "source": [
        "**Preguntas:**"
      ]
    },
    {
      "attachments": {},
      "cell_type": "markdown",
      "metadata": {},
      "source": [
        "1. Hay alguna relacion entre momento de que se toma una bicicleta al momento en que se deja en el lugar de destino?"
      ]
    },
    {
      "cell_type": "code",
      "execution_count": 104,
      "metadata": {},
      "outputs": [
        {
          "data": {
            "text/plain": [
              "<AxesSubplot:xlabel='origen_dia', ylabel='destino_dia'>"
            ]
          },
          "execution_count": 104,
          "metadata": {},
          "output_type": "execute_result"
        },
        {
          "data": {
            "image/png": "[encoded data removed]",
            "text/plain": [
              "<Figure size 792x676.8 with 1 Axes>"
            ]
          },
          "metadata": {},
          "output_type": "display_data"
        }
      ],
      "source": [
        "plt.grid(True)\n",
        "sns.scatterplot(\n",
        "    data= datos,\n",
        "    x='origen_dia',\n",
        "    y= 'destino_dia')"
      ]
    },
    {
      "cell_type": "code",
      "execution_count": null,
      "metadata": {},
      "outputs": [
        {
          "data": {
            "text/plain": [
              "<AxesSubplot:xlabel='origen_hora', ylabel='destino_hora'>"
            ]
          },
          "metadata": {},
          "output_type": "display_data"
        },
        {
          "data": {
            "image/png": "[encoded data removed]",
            "text/plain": [
              "<Figure size 792x676.8 with 1 Axes>"
            ]
          },
          "metadata": {},
          "output_type": "display_data"
        }
      ],
      "source": [
        "plt.grid(True)\n",
        "sns.barplot(\n",
        "    data= datos,\n",
        "    x='origen_hora',\n",
        "    y= 'destino_hora')"
      ]
    },
    {
      "cell_type": "code",
      "execution_count": null,
      "metadata": {},
      "outputs": [
        {
          "data": {
            "text/plain": [
              "20.641105366864316"
            ]
          },
          "metadata": {},
          "output_type": "display_data"
        }
      ],
      "source": [
        "np.mean(datos.duracion_recorrido_segundos) / 60"
      ]
    },
    {
      "attachments": {},
      "cell_type": "markdown",
      "metadata": {},
      "source": [
        "Relacion entre el dia, mes y duracion del recorrido?"
      ]
    },
    {
      "cell_type": "code",
      "execution_count": null,
      "metadata": {},
      "outputs": [
        {
          "data": {
            "image/png": "[encoded data removed]",
            "text/plain": [
              "<Figure size 792x676.8 with 1 Axes>"
            ]
          },
          "metadata": {},
          "output_type": "display_data"
        }
      ],
      "source": [
        "# Calcular el promedio de duración de recorrido por mes y día de origen\n",
        "promedio_mesdia_duracion = datos.groupby(['origen_mes', 'origen_dia'])['duracion_recorrido_segundos'].mean()\n",
        "\n",
        "# Convertir los índices y valores a listas\n",
        "mes_dia = promedio_mesdia_duracion.index.tolist()\n",
        "duracion = promedio_mesdia_duracion.values.tolist()\n",
        "\n",
        "# Crear el gráfico de dispersión utilizando Seaborn\n",
        "sns.barplot(promedio_mesdia_duracion, x=mes_dia, y=duracion)\n",
        "\n",
        "# Mostrar el gráfico\n",
        "plt.show()"
      ]
    },
    {
      "attachments": {},
      "cell_type": "markdown",
      "metadata": {},
      "source": [
        "Por dia generalmente se entregan sobre el mismo dia, salvo pequeñas exepciones que se entregan generalmente al otro dia.\n",
        "Se obvserva que las vicicletas que se toman a las 23hs seentregan generalmente al otro dia cerca de las 16hs, muy probablemnte por la inseguridad asociada a este rango horario."
      ]
    },
    {
      "attachments": {},
      "cell_type": "markdown",
      "metadata": {},
      "source": []
    },
    {
      "attachments": {},
      "cell_type": "markdown",
      "metadata": {},
      "source": [
        "Relacion entre el genero de la persona y duracion de recorrido?"
      ]
    },
    {
      "cell_type": "code",
      "execution_count": 110,
      "metadata": {},
      "outputs": [],
      "source": [
        "# Calcular el promedio de duración de recorrido por mes y día de origen\n",
        "bici_genero = datos.groupby('usuario_genero')['duracion_recorrido_segundos'].mean()\n",
        "\n",
        "# Convertir los índices y valores a listas\n",
        "genero = bici_genero.index.tolist()\n",
        "duracion = bici_genero.values.tolist()"
      ]
    },
    {
      "cell_type": "code",
      "execution_count": 113,
      "metadata": {},
      "outputs": [
        {
          "data": {
            "text/plain": [
              "(-1.102406720447499,\n",
              " 1.1001146057355953,\n",
              " -1.1038237345934838,\n",
              " 1.1070557692088292)"
            ]
          },
          "execution_count": 113,
          "metadata": {},
          "output_type": "execute_result"
        },
        {
          "data": {
            "image/png": "[encoded data removed]",
            "text/plain": [
              "<Figure size 792x676.8 with 1 Axes>"
            ]
          },
          "metadata": {},
          "output_type": "display_data"
        }
      ],
      "source": [
        "plt.pie(x=duracion, labels=genero, autopct='%1.1f%%')\n",
        "plt.axis('equal')  # Para asegurar que el gráfico de pastel sea circular"
      ]
    },
    {
      "attachments": {},
      "cell_type": "markdown",
      "metadata": {},
      "source": [
        "Se observa una distribucion proporcional de los generos"
      ]
    },
    {
      "attachments": {},
      "cell_type": "markdown",
      "metadata": {},
      "source": []
    },
    {
      "attachments": {},
      "cell_type": "markdown",
      "metadata": {},
      "source": [
        "3. Relacion entre la bici y duracion del recorrido?"
      ]
    },
    {
      "cell_type": "code",
      "execution_count": null,
      "metadata": {},
      "outputs": [],
      "source": [
        "promedio_tiempo_uso = datos.groupby('modelo_bicicleta')['duracion_recorrido_segundos'].mean()"
      ]
    },
    {
      "cell_type": "code",
      "execution_count": null,
      "metadata": {},
      "outputs": [
        {
          "data": {
            "image/png": "[encoded data removed]",
            "text/plain": [
              "<Figure size 792x676.8 with 1 Axes>"
            ]
          },
          "metadata": {},
          "output_type": "display_data"
        }
      ],
      "source": [
        "# Crear lista de etiquetas y lista de valores para el gráfico de pastel\n",
        "etiquetas = promedio_tiempo_uso.index.tolist()\n",
        "valores = promedio_tiempo_uso.values.tolist()\n",
        "\n",
        "# Crear el gráfico de pastel\n",
        "plt.pie(valores, labels=etiquetas, autopct='%1.1f%%')\n",
        "plt.axis('equal')  # Para asegurar que el gráfico de pastel sea circular\n",
        "plt.title('Promedio de tiempo de uso por modelo de bicicleta')\n",
        "plt.show()"
      ]
    },
    {
      "attachments": {},
      "cell_type": "markdown",
      "metadata": {},
      "source": [
        "Bicicleta con mas nivel de uso?"
      ]
    },
    {
      "cell_type": "code",
      "execution_count": null,
      "metadata": {},
      "outputs": [
        {
          "data": {
            "image/png": "[encoded data removed]",
            "text/plain": [
              "<Figure size 792x676.8 with 1 Axes>"
            ]
          },
          "metadata": {},
          "output_type": "display_data"
        }
      ],
      "source": [
        "# Obtener conteo de cada modelo de bicicleta\n",
        "conteo_modelos = datos['modelo_bicicleta'].value_counts()\n",
        "\n",
        "# Crear lista de etiquetas y lista de valores para el gráfico de pastel\n",
        "etiquetas = conteo_modelos.index.tolist()\n",
        "valores = conteo_modelos.values.tolist()\n",
        "\n",
        "# Crear el gráfico de pastel\n",
        "plt.pie(valores, labels=etiquetas, autopct='%1.1f%%')\n",
        "plt.axis('equal')  # Para asegurar que el gráfico de pastel sea circular\n",
        "plt.title('Proporción de modelos de bicicleta')\n",
        "plt.show()"
      ]
    },
    {
      "attachments": {},
      "cell_type": "markdown",
      "metadata": {},
      "source": [
        "El tiempo de uso promedio de las bicicletas es muy similar, aunque se nota una diferencia en la cantidad de veces que se utiliza cada una, siendo la \"iconic\" muy superior a la \"fit\" con un 81,5%"
      ]
    }
  ],
  "metadata": {
    "colab": {
      "collapsed_sections": [
        "iIeotye5QUWy",
        "GMadIBGIQUXU"
      ],
      "provenance": []
    },
    "kernelspec": {
      "display_name": "Python 3",
      "language": "python",
      "name": "python3"
    },
    "language_info": {
      "codemirror_mode": {
        "name": "ipython",
        "version": 3
      },
      "file_extension": ".py",
      "mimetype": "text/x-python",
      "name": "python",
      "nbconvert_exporter": "python",
      "pygments_lexer": "ipython3",
      "version": "3.10.7"
    },
    "orig_nbformat": 4
  },
  "nbformat": 4,
  "nbformat_minor": 0
}
